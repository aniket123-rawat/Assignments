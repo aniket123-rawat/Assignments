{
  "nbformat": 4,
  "nbformat_minor": 0,
  "metadata": {
    "colab": {
      "provenance": []
    },
    "kernelspec": {
      "name": "python3",
      "display_name": "Python 3"
    },
    "language_info": {
      "name": "python"
    }
  },
  "cells": [
    {
      "cell_type": "markdown",
      "source": [
        "# OOPS Assignment"
      ],
      "metadata": {
        "id": "wgY18Qt8ZKeX"
      }
    },
    {
      "cell_type": "markdown",
      "source": [
        " **Theory Questions**"
      ],
      "metadata": {
        "id": "PSj9N4qwk7kD"
      }
    },
    {
      "cell_type": "markdown",
      "source": [
        "  1.  What is Object-Oriented Programming (OOP) ?"
      ],
      "metadata": {
        "id": "qPTFREFkZQbI"
      }
    },
    {
      "cell_type": "markdown",
      "source": [
        "  Ans. OOP (Object-Oriented Programming), or \"Oops,\" is a programming paradigm that structures software around objects and classes, which represent real-world entities by bundling data and the functions (methods) that operate on that data into a single unit. This approach enhances code reusability, modularity, and maintainability by using principles like encapsulation, inheritance, and polymorphism."
      ],
      "metadata": {
        "id": "SjVJ7S_XZsMv"
      }
    },
    {
      "cell_type": "markdown",
      "source": [
        "  2. What is a class in OOP ?"
      ],
      "metadata": {
        "id": "ZHxjNwPaZ-mO"
      }
    },
    {
      "cell_type": "markdown",
      "source": [
        "  Ans. In object-oriented programming (OOP), a class is a blueprint or template for creating objects. It defines the shared properties (attributes or variables) and behaviors (methods or functions) that objects created from it will have."
      ],
      "metadata": {
        "id": "TvPp5q9RaL6z"
      }
    },
    {
      "cell_type": "markdown",
      "source": [
        "  3.  What is an object in OOP ?"
      ],
      "metadata": {
        "id": "8Xv1R6zMaW3u"
      }
    },
    {
      "cell_type": "markdown",
      "source": [
        "  Ans. In object-oriented programming (OOP), an object is an instance of a class, representing a real-world entity or concept within a program. It contains both data (attributes or state) and behaviors (methods or functions) that act on that data. Objects serve as the fundamental building blocks of OOP applications, allowing for modular, reusable, and interactive code by encapsulating properties and functionalities."
      ],
      "metadata": {
        "id": "l1zJPBsOaeu3"
      }
    },
    {
      "cell_type": "markdown",
      "source": [
        "  4. What is the difference between abstraction and encapsulation+\n"
      ],
      "metadata": {
        "id": "GRmVwiFuaoB5"
      }
    },
    {
      "cell_type": "markdown",
      "source": [
        "  Ans. Abstraction and encapsulation are fundamental concepts in object-oriented programming, often confused due to their shared goal of managing complexity, but they differ in their approach and focus.\n",
        "\n",
        "Abstraction focuses on hiding the complexity of what an object does. It involves defining the essential characteristics and behaviors of an object, presenting a simplified view to the user while concealing the intricate implementation details. This is often achieved through abstract classes and interfaces, which define a contract for behavior without specifying how that behavior is implemented. The user interacts with the abstract representation without needing to understand the underlying mechanisms.\n",
        "\n",
        "Encapsulation focuses on hiding the complexity of how an object does something. It involves bundling data (attributes) and methods (behaviors) that operate on that data into a single unit, typically a class. Encapsulation restricts direct access to an object's internal state and provides controlled access through public methods (like getters and setters). This protects the data from unauthorized or inconsistent modifications and ensures data integrity."
      ],
      "metadata": {
        "id": "W7xBUM_Wa3aA"
      }
    },
    {
      "cell_type": "markdown",
      "source": [
        "  5. What are dunder methods in Python?"
      ],
      "metadata": {
        "id": "YVwfkNJybCk9"
      }
    },
    {
      "cell_type": "markdown",
      "source": [
        "  Ans. Dunder methods, also known as magic methods or special methods, are a set of predefined methods in Python that are distinguished by their names starting and ending with double underscores (e.g., __init__, __str__, __add__). The term \"dunder\" is a shorthand derived from \"double underscore.\""
      ],
      "metadata": {
        "id": "ORzS8YoqbIEY"
      }
    },
    {
      "cell_type": "markdown",
      "source": [
        "  6.  Explain the concept of inheritance in OOP ?"
      ],
      "metadata": {
        "id": "lO_49Uh3bVR2"
      }
    },
    {
      "cell_type": "markdown",
      "source": [
        "  Ans. Inheritance in Object-Oriented Programming (OOP) is a fundamental concept that allows a new class (called the subclass or child class) to inherit properties (attributes) and behaviors (methods) from an existing class (called the superclass or parent class). This mechanism establishes an \"is-a\" relationship between classes, where a subclass is a specialized version of its superclass."
      ],
      "metadata": {
        "id": "wWEvxoYdba70"
      }
    },
    {
      "cell_type": "markdown",
      "source": [
        "  7. What is Polymorphism in OPPS ?"
      ],
      "metadata": {
        "id": "l2YGi5Yqb303"
      }
    },
    {
      "cell_type": "markdown",
      "source": [
        "  Ans. Polymorphism in object-oriented programming (OOP) is the ability of objects, methods, or functions to take on multiple forms or behaviors. This allows different objects to respond to the same message or method call in their own specific way, enabling code flexibility, reusability, and scalability."
      ],
      "metadata": {
        "id": "ZxRMFF0EbkQ_"
      }
    },
    {
      "cell_type": "markdown",
      "source": [
        "  8. How is encapsulation achieved in Python?\n"
      ],
      "metadata": {
        "id": "HSaPJJ2YbzNT"
      }
    },
    {
      "cell_type": "markdown",
      "source": [
        "  Ans. Encapsulation in Python, a core principle of Object-Oriented Programming (OOP), focuses on bundling data (attributes) and the methods that operate on that data within a single unit, typically a class.\n",
        "\n",
        "Python achieves encapsulation primarily through:\n",
        "\n",
        "# Conventions for Access Modifiers:\n",
        "Public Members: By default, all attributes and methods in a Python class are public. They can be accessed directly from outside the class using the dot operator.\n",
        "\n",
        "Protected Members (Convention): A single leading underscore (_) before an attribute or method name conventionally indicates that it is intended for internal use within the class or its subclasses. While not strictly enforced by the interpreter, it serves as a strong signal to developers to avoid direct external access.\n",
        "\n",
        "Private Members (Name Mangling): A double leading underscore (__) before an attribute or method name triggers name mangling by the Python interpreter. This means the name is transformed internally (e.g., __attribute becomes _ClassName__attribute), making it harder, though not impossible, to access directly from outside the class. This mechanism provides a stronger form of \"privacy\" compared to the single underscore convention.\n",
        "\n",
        "#Getter and Setter Methods (Properties):\n",
        "To provide controlled access to internal data, especially for \"private\" or \"protected\" attributes, getter and setter methods are commonly used. Getters retrieve the value of an attribute, while setters allow modification of an attribute, often including validation logic to ensure data integrity.\n",
        "\n",
        "The @property decorator offers a more Pythonic way to implement getters and setters, allowing you to access methods as if they were attributes, providing a cleaner interface while still enforcing control over data access.\n",
        "\n",
        "In essence, while Python does not have strict access keywords like private or protected found in some other languages, it achieves encapsulation through a combination of naming conventions, name mangling, and the strategic use of getter and setter methods, often enhanced by the @property decorator."
      ],
      "metadata": {
        "id": "jN6JKVfwcHm4"
      }
    },
    {
      "cell_type": "markdown",
      "source": [
        "  9. What is a constructor in Python?"
      ],
      "metadata": {
        "id": "W9J9srxNc4E9"
      }
    },
    {
      "cell_type": "markdown",
      "source": [
        "  Ans. In Python, a constructor is a special method used to initialize the state of an object when it is created. It is automatically called when an instance of a class is created.\n",
        "  \n",
        "The primary constructor in Python is defined using the __init__ method."
      ],
      "metadata": {
        "id": "3v1LCUtFc_jj"
      }
    },
    {
      "cell_type": "markdown",
      "source": [
        "  10. What are class and static methods in Python?"
      ],
      "metadata": {
        "id": "PUIHISytdU2X"
      }
    },
    {
      "cell_type": "markdown",
      "source": [
        "  Ans. In Python, both class methods and static methods are defined within a class but differ in their binding and access to class and instance data.\n",
        "\n",
        "#Class Methods:\n",
        "Definition: A class method is defined using the @classmethod decorator.\n",
        "Binding: It takes the class itself as its first argument, conventionally named cls.\n",
        "\n",
        "Access: Class methods can access and modify class-level variables and call other class methods. They are often used as alternative constructors or for operations that affect the entire class.\n"
      ],
      "metadata": {
        "id": "KBuAGXrJdfOt"
      }
    },
    {
      "cell_type": "code",
      "source": [
        "class MyClass:\n",
        "    class_variable = 0\n",
        "\n",
        "    def __init__(self, value):\n",
        "        self.instance_variable = value\n",
        "\n",
        "    @classmethod\n",
        "    def create_from_string(cls, data_string):\n",
        "        # Example: parse a string to create an instance\n",
        "        value = int(data_string.split('-')[1])\n",
        "        return cls(value)\n",
        "\n",
        "    @classmethod\n",
        "    def increment_class_variable(cls):\n",
        "        cls.class_variable += 1"
      ],
      "metadata": {
        "id": "8LSAoN0ddwJb"
      },
      "execution_count": 2,
      "outputs": []
    },
    {
      "cell_type": "markdown",
      "source": [
        "#Static Methods:\n",
        "\n",
        "Definition: A static method is defined using the @staticmethod decorator.\n",
        "\n",
        "Binding: It does not receive any implicit first argument like self (for instance methods) or cls (for class methods).\n",
        "\n",
        "Access: Static methods cannot directly access or modify instance-specific data or class-level variables. They are essentially regular functions logically grouped within a class because they relate to the class's purpose but do not depend on its state or instance. They are often used for utility functions."
      ],
      "metadata": {
        "id": "KHzv7-60d-0-"
      }
    },
    {
      "cell_type": "code",
      "source": [
        "class MathOperations:\n",
        "    @staticmethod\n",
        "    def add(x, y):\n",
        "        return x + y\n",
        "\n",
        "    @staticmethod\n",
        "    def is_even(number):\n",
        "        return number % 2 == 0"
      ],
      "metadata": {
        "id": "6W6V98jTePL5"
      },
      "execution_count": 3,
      "outputs": []
    },
    {
      "cell_type": "markdown",
      "source": [
        "  11.  What is method overloading in Python ?"
      ],
      "metadata": {
        "id": "BauStgHgeUJn"
      }
    },
    {
      "cell_type": "markdown",
      "source": [
        "  Ans. Method overloading, in the context of object-oriented programming, refers to the ability to define multiple methods within a single class that share the same name but have different parameters (either in number or type). This allows a single method name to perform different actions based on the arguments it receives."
      ],
      "metadata": {
        "id": "hj45rn4oed2W"
      }
    },
    {
      "cell_type": "markdown",
      "source": [
        "  12.  What is method overriding in OOP?"
      ],
      "metadata": {
        "id": "a9LH0wrze4Gm"
      }
    },
    {
      "cell_type": "markdown",
      "source": [
        "  Ans. Method overriding in Object-Oriented Programming (OOP) is a feature where a subclass provides its own specific implementation of a method that already exists in its superclass, with the same name, return type, and parameter list. This allows for runtime polymorphism, enabling a subclass to offer specialized behavior while inheriting common functionality, as the specific method to be executed is determined by the type of the object at the time it is called."
      ],
      "metadata": {
        "id": "QzMo-2Z9e_aH"
      }
    },
    {
      "cell_type": "markdown",
      "source": [
        "  13. What is a property decorator in Python?"
      ],
      "metadata": {
        "id": "JjeqXGPBfWVy"
      }
    },
    {
      "cell_type": "markdown",
      "source": [
        "  Ans. The @property decorator in Python is a built-in decorator that allows you to define methods within a class that can be accessed like attributes, rather than requiring explicit method calls. It provides a \"Pythonic\" way to implement getters, setters, and deleters for class attributes, enabling controlled access and encapsulation."
      ],
      "metadata": {
        "id": "hfOExRlJfg7u"
      }
    },
    {
      "cell_type": "markdown",
      "source": [
        "  14. Why is polymorphism important in OOP?\n"
      ],
      "metadata": {
        "id": "yx-npBIufn1I"
      }
    },
    {
      "cell_type": "markdown",
      "source": [
        "  Ans. Polymorphism is important in OOP because it enables code reusability, flexibility, and scalability by allowing a single action or method to be performed in various ways by different objects. It promotes modular and organized code, making it easier to maintain, test, and extend by reducing redundancy and avoiding complex conditional statements. Polymorphism is a foundational concept that helps create true object-oriented systems by allowing diverse objects to share a common interface while retaining their unique implementations."
      ],
      "metadata": {
        "id": "ZARV5J3Kf2RV"
      }
    },
    {
      "cell_type": "markdown",
      "source": [
        "  15. What is an abstract class in Python?\n"
      ],
      "metadata": {
        "id": "hVjnQv5GgC-s"
      }
    },
    {
      "cell_type": "markdown",
      "source": [
        "  Ans. An abstract class in Python is a class that serves as a blueprint for other classes and cannot be instantiated directly. It is designed to define a common interface or structure that its subclasses must adhere to."
      ],
      "metadata": {
        "id": "2yZ9O6S7gPrr"
      }
    },
    {
      "cell_type": "markdown",
      "source": [
        "  16. What are the advantages of OOP?"
      ],
      "metadata": {
        "id": "GEmgy6S-gZu-"
      }
    },
    {
      "cell_type": "markdown",
      "source": [
        "  Ans. The main advantages of Object-Oriented Programming (OOP) are modularity, code reusability through inheritance, flexibility and extensibility via polymorphism, enhanced security and data integrity from encapsulation and abstraction, improved scalability for complex systems, easier maintenance, and better collaboration among developers. These features help in creating software that is more organized, adaptable, and cost-effective to develop and manage."
      ],
      "metadata": {
        "id": "RB2HZUWygirb"
      }
    },
    {
      "cell_type": "markdown",
      "source": [
        "  17. What is the difference between a class variable and an instance variable?\n"
      ],
      "metadata": {
        "id": "KIP1dnCjgtsx"
      }
    },
    {
      "cell_type": "markdown",
      "source": [
        "  Ans. The fundamental difference between a class variable and an instance variable lies in their scope, storage, and how they are accessed and shared among objects of a class.\n",
        "  \n",
        "#Class Variables:\n",
        "\n",
        "Definition:\n",
        "\n",
        "Class variables are declared directly within the class definition but outside any methods. They are typically marked with a static modifier in languages like Java or C++. In Python, they are simply defined at the class level.\n",
        "\n",
        "Scope & Sharing:\n",
        "\n",
        "They are shared by all instances (objects) of the class. There is only one copy of a class variable, and any modification to it by one instance will be reflected in all other instances.\n",
        "\n",
        "Access:\n",
        "\n",
        "Can be accessed directly using the class name (e.g., ClassName.variable_name) or through an instance (e.g., object_name.variable_name).\n",
        "\n",
        "Use Cases:\n",
        "\n",
        "Ideal for storing data that is common to all instances, such as constants, counters for the number of instances created, or shared configuration settings.\n",
        "\n",
        "#Instance Variables:\n",
        "\n",
        "Definition:\n",
        "\n",
        "Instance variables are declared within the methods of a class, typically within the constructor (__init__ in Python, or the constructor method in other languages). They are associated with a specific object.\n",
        "\n",
        "Scope & Sharing:\n",
        "\n",
        "Each instance of the class has its own unique copy of instance variables. Changes made to an instance variable in one object do not affect the same variable in other objects.\n",
        "\n",
        "Access:\n",
        "\n",
        "Must be accessed through an instance of the class (e.g., object_name.variable_name).\n",
        "\n",
        "#Use Cases:\n",
        "Used to store data that is unique to each individual object, representing the specific state or characteristics of that object (e.g., name, age, balance).\n",
        "\n",
        "In summary: Think of a class as a blueprint and instances as the houses built from that blueprint. Class variables are like the shared specifications in the blueprint (e.g., the number of floors allowed in the neighborhood), while instance variables are like the unique features of each house (e.g., the color of the paint or the type of roof)."
      ],
      "metadata": {
        "id": "vYTPmL7wg38_"
      }
    },
    {
      "cell_type": "markdown",
      "source": [
        "  18. What is multiple inheritance in Python?"
      ],
      "metadata": {
        "id": "rOp1mFWKhkRB"
      }
    },
    {
      "cell_type": "markdown",
      "source": [
        "  Ans. Multiple inheritance in Python is an object-oriented programming feature that allows a class to inherit attributes and methods from more than one parent class. This means a single child class can combine the functionalities and characteristics of multiple distinct base classes."
      ],
      "metadata": {
        "id": "j7IIkKy7hx5G"
      }
    },
    {
      "cell_type": "code",
      "source": [
        "    class ParentA:\n",
        "        def method_a(self):\n",
        "            print(\"Method from ParentA\")\n",
        "\n",
        "    class ParentB:\n",
        "        def method_b(self):\n",
        "            print(\"Method from ParentB\")\n",
        "\n",
        "    class Child(ParentA, ParentB):\n",
        "        pass"
      ],
      "metadata": {
        "id": "UJdvalesh7bm"
      },
      "execution_count": 4,
      "outputs": []
    },
    {
      "cell_type": "markdown",
      "source": [
        "  19. Explain the purpose of ‘’__str__’ and ‘__repr__’ ‘ methods in Python."
      ],
      "metadata": {
        "id": "UOsK3ceWh_kU"
      }
    },
    {
      "cell_type": "markdown",
      "source": [
        "  Ans. The __str__ and __repr__ methods in Python are special \"dunder\" methods (double underscore methods) that define how an object is represented as a string. They serve different purposes and are intended for different audiences.\n",
        "\n",
        "#__str__ (for \"string\"):\n",
        "\n",
        "Purpose: To provide a human-readable, informal, and user-friendly string representation of an object.\n",
        "\n",
        "Usage: This method is implicitly called when you use print() on an object, convert an object to a string using str(), or use an f-string to embed an object within a string.\n",
        "\n",
        "Goal: Readability for the end-user. It should present the most relevant information in a clear and concise way, without necessarily providing all the details needed to recreate the object.\n",
        "\n",
        "#__repr__ (for \"representation\"):\n",
        "\n",
        "Purpose: To provide an unambiguous, formal, and developer-oriented string representation of an object.\n",
        "\n",
        "Usage: This method is implicitly called when an object is displayed in the interactive Python shell (REPL) or when you use repr() on an object.\n",
        "\n",
        "Goal: Unambiguity for the programmer. The output of __repr__ should ideally be a valid Python expression that, when evaluated, could recreate the object with the same state. This makes it invaluable for debugging and introspection.\n",
        "\n",
        "In essence:\n",
        "\n",
        "__str__ is for users, providing a \"nice\" output.\n",
        "\n",
        "__repr__ is for developers, providing a \"detailed and reconstructible\" output."
      ],
      "metadata": {
        "id": "CAbIp24TiLLn"
      }
    },
    {
      "cell_type": "markdown",
      "source": [
        "  20. What is the significance of the ‘super()’ function in Python?"
      ],
      "metadata": {
        "id": "HHZn0vq2ir-5"
      }
    },
    {
      "cell_type": "markdown",
      "source": [
        "  Ans. The super() function in Python holds significant importance in object-oriented programming, particularly when dealing with inheritance. Its primary purpose is to provide a way to access methods and properties of a parent or sibling class from within a child or subclass."
      ],
      "metadata": {
        "id": "aWbysaMXi48L"
      }
    },
    {
      "cell_type": "markdown",
      "source": [
        "  21. What is the significance of the __del__ method in Python?"
      ],
      "metadata": {
        "id": "Hc4Ovh4pjBDB"
      }
    },
    {
      "cell_type": "markdown",
      "source": [
        "  Ans. The __del__ method in Python, often referred to as a destructor, holds significance primarily for resource cleanup when an object is about to be destroyed."
      ],
      "metadata": {
        "id": "QL1vh9IqjIlD"
      }
    },
    {
      "cell_type": "markdown",
      "source": [
        "  22. What is the difference between @staticmethod and @classmethod in Python?"
      ],
      "metadata": {
        "id": "ExgIhNtnjTpH"
      }
    },
    {
      "cell_type": "markdown",
      "source": [
        "  Ans. The primary difference between @staticmethod and @classmethod in Python lies in their access to the class and its instances.\n",
        "\n",
        "#@classmethod:\n",
        "Takes cls as the first argument:\n",
        "\n",
        "A class method receives the class itself as its first parameter, conventionally named cls. This allows the method to access and modify class-level attributes and call other class methods.\n",
        "\n",
        "Can access and modify class state:\n",
        "\n",
        "Because it receives cls, a class method can interact with the class's attributes and potentially change the class's state, affecting all instances.\n",
        "\n",
        "Commonly used for factory methods:\n",
        "\n",
        "Class methods are frequently employed to create alternative constructors or factory methods that return instances of the class based on different input parameters or conditions.\n",
        "\n",
        "#@staticmethod:\n",
        "\n",
        "Does not take self or cls as an argument:\n",
        "\n",
        "A static method does not receive any special first argument like self (for instance methods) or cls (for class methods).\n",
        "\n",
        "Cannot access or modify class or instance state:\n",
        "\n",
        "Due to the lack of self or cls, static methods cannot directly access or modify class-level attributes or instance-specific data.\n",
        "\n",
        "Used for utility functions:\n",
        "\n",
        "Static methods are typically used for utility functions that are logically related to the class but do not require any knowledge of the class's state or its instances. They behave like regular functions but are encapsulated within the class's namespace.\n"
      ],
      "metadata": {
        "id": "btjIRoBOjcKo"
      }
    },
    {
      "cell_type": "markdown",
      "source": [
        "  23. How does polymorphism work in Python with inheritance?"
      ],
      "metadata": {
        "id": "j909-Lhnj93B"
      }
    },
    {
      "cell_type": "markdown",
      "source": [
        "  Ans. Polymorphism in Python, when combined with inheritance, primarily manifests through method overriding. This allows objects of different classes, related by inheritance, to respond to the same method call in a way specific to their own class.\n",
        "\n",
        "\n",
        "Inheritance:\n",
        "\n",
        "A child class (subclass) inherits attributes and methods from a parent class (superclass). This means the child class initially has access to the parent's methods.\n",
        "\n",
        "Method Overriding:\n",
        "\n",
        "If a child class needs to implement a method inherited from its parent in a different, more specific way, it can redefine that method with the same name. This redefinition in the child class is called method overriding. When an object of the child class calls this method, Python's runtime polymorphism ensures that the child's version of the method is executed, rather than the parent's.\n",
        "\n",
        "Common Interface:\n",
        "\n",
        "Polymorphism with inheritance allows you to define a common interface (method names) in a base class, which is then implemented or specialized in multiple derived classes. This enables you to treat objects of different derived classes interchangeably when interacting with that common interface."
      ],
      "metadata": {
        "id": "q-i275ftkFmN"
      }
    },
    {
      "cell_type": "markdown",
      "source": [
        "  24. What is method chaining in Python OOP?"
      ],
      "metadata": {
        "id": "DYGOKnfIkTqz"
      }
    },
    {
      "cell_type": "markdown",
      "source": [
        "  Ans. Method chaining in Python Object-Oriented Programming (OOP) is a technique that allows for the sequential invocation of multiple methods on the same object within a single line of code. This is achieved by having each method in the chain return the instance of the object itself (self)."
      ],
      "metadata": {
        "id": "8SNa9DwmkdmE"
      }
    },
    {
      "cell_type": "markdown",
      "source": [
        "  25. What is the purpose of the __call__ method in Python?"
      ],
      "metadata": {
        "id": "DlncY3pykj3l"
      }
    },
    {
      "cell_type": "markdown",
      "source": [
        "  Ans. The purpose of the __call__ method in Python is to make instances of a class callable, meaning they can be invoked like functions.\n",
        "\n",
        "When the __call__ method is defined within a class, and an instance of that class is subsequently called using parentheses  (e.g., my_object()), the __call__ method of that instance is automatically executed. This allows objects to encapsulate both data and behavior in a way that makes them behave like functions, providing a more flexible and dynamic approach to object-oriented programming.\n",
        "\n",
        "This functionality is useful in scenarios where an object needs to represent an operation or a function-like entity, while also maintaining its state and attributes as an object."
      ],
      "metadata": {
        "id": "muO1c2i3ks1-"
      }
    },
    {
      "cell_type": "markdown",
      "source": [
        "  **Practical Questions**"
      ],
      "metadata": {
        "id": "jTMw9xfXo_VS"
      }
    },
    {
      "cell_type": "markdown",
      "source": [
        "  1.  Create a parent class Animal with a method speak() that prints a generic message. Create a child class Dog\n",
        "that overrides the speak() method to print \"Bark!\"."
      ],
      "metadata": {
        "id": "ehNWTMWopIJn"
      }
    },
    {
      "cell_type": "code",
      "source": [
        "class Animal:\n",
        "  def speak(self):\n",
        "    print(\"Generic animal sound\")\n",
        "\n",
        "class Dog(Animal):\n",
        "  def speak(self):\n",
        "    print(\"Bark!\")\n",
        "\n",
        "animal = Animal()\n",
        "animal.speak()\n",
        "\n",
        "dog = Dog()\n",
        "dog.speak()"
      ],
      "metadata": {
        "colab": {
          "base_uri": "https://localhost:8080/"
        },
        "id": "MZRKvFHSpe1u",
        "outputId": "04eacd95-40a1-4a25-c89c-2dfbfdf1c917"
      },
      "execution_count": 6,
      "outputs": [
        {
          "output_type": "stream",
          "name": "stdout",
          "text": [
            "Generic animal sound\n",
            "Bark!\n"
          ]
        }
      ]
    },
    {
      "cell_type": "markdown",
      "source": [
        "  2. Write a program to create an abstract class Shape with a method area(). Derive classes Circle and Rectangle\n",
        "from it and implement the area() method in both."
      ],
      "metadata": {
        "id": "tj5_LOVAp0Fy"
      }
    },
    {
      "cell_type": "code",
      "source": [
        "from abc import ABC, abstractmethod\n",
        "\n",
        "class Shape(ABC):\n",
        "    @abstractmethod\n",
        "    def area(self):\n",
        "        pass\n",
        "\n",
        "class Circle(Shape):\n",
        "    def __init__(self, radius):\n",
        "        self.radius = radius\n",
        "\n",
        "    def area(self):\n",
        "        return 3.14 * self.radius * self.radius\n",
        "\n",
        "class Rectangle(Shape):\n",
        "    def __init__(self, length, width):\n",
        "        self.length = length\n",
        "        self.width = width\n",
        "\n",
        "    def area(self):\n",
        "        return self.length * self.width\n",
        "\n",
        "circle = Circle(5)\n",
        "print(f\"Area of Circle: {circle.area()}\")\n",
        "\n",
        "rectangle = Rectangle(4, 6)\n",
        "print(f\"Area of Rectangle: {rectangle.area()}\")\n",
        "\n",
        "\n"
      ],
      "metadata": {
        "colab": {
          "base_uri": "https://localhost:8080/"
        },
        "id": "a-AZSJkVqJwy",
        "outputId": "a57a7ccf-bedf-4e4a-9ea0-b9e09cb83b73"
      },
      "execution_count": 8,
      "outputs": [
        {
          "output_type": "stream",
          "name": "stdout",
          "text": [
            "Area of Circle: 78.5\n",
            "Area of Rectangle: 24\n"
          ]
        }
      ]
    },
    {
      "cell_type": "markdown",
      "source": [
        "  3.  Implement a multi-level inheritance scenario where a class Vehicle has an attribute type. Derive a class Car\n",
        "and further derive a class ElectricCar that adds a battery attribute."
      ],
      "metadata": {
        "id": "cPM36lhCrTZC"
      }
    },
    {
      "cell_type": "code",
      "source": [
        "class Vehicle:\n",
        "    def __init__(self, vehicle_type):\n",
        "        self.type = vehicle_type\n",
        "\n",
        "    def display_type(self):\n",
        "        print(f\"Vehicle Type: {self.type}\")\n",
        "\n",
        "class Car(Vehicle):\n",
        "    def __init__(self, vehicle_type, brand):\n",
        "        super().__init__(vehicle_type)\n",
        "        self.brand = brand\n",
        "\n",
        "    def display_brand(self):\n",
        "        print(f\"Car Brand: {self.brand}\")\n",
        "\n",
        "class ElectricCar(Car):\n",
        "    def __init__(self, vehicle_type, brand, battery_capacity):\n",
        "        super().__init__(vehicle_type, brand)\n",
        "        self.battery_capacity = battery_capacity\n",
        "\n",
        "    def display_battery(self):\n",
        "        print(f\"Battery Capacity: {self.battery_capacity} kWh\")\n",
        "\n",
        "my_electric_car = ElectricCar(\"Sedan\", \"Tesla\", 75)\n",
        "my_electric_car.display_type()\n",
        "my_electric_car.display_brand()\n",
        "my_electric_car.display_battery()"
      ],
      "metadata": {
        "colab": {
          "base_uri": "https://localhost:8080/"
        },
        "id": "rO3GbqSBrvFS",
        "outputId": "5c548d03-8519-46eb-963d-927f7a6cc3e0"
      },
      "execution_count": 9,
      "outputs": [
        {
          "output_type": "stream",
          "name": "stdout",
          "text": [
            "Vehicle Type: Sedan\n",
            "Car Brand: Tesla\n",
            "Battery Capacity: 75 kWh\n"
          ]
        }
      ]
    },
    {
      "cell_type": "markdown",
      "source": [
        "  4. Demonstrate polymorphism by creating a base class Bird with a method fly(). Create two derived classes\n",
        "Sparrow and Penguin that override the fly() method.\n"
      ],
      "metadata": {
        "id": "3YVpW1g6r4KB"
      }
    },
    {
      "cell_type": "code",
      "source": [
        "class Bird:\n",
        "    def fly(self):\n",
        "        print(\"Most birds can fly\")\n",
        "\n",
        "class Sparrow(Bird):\n",
        "    def fly(self):\n",
        "        print(\"Sparrows fly short distances\")\n",
        "\n",
        "class Penguin(Bird):\n",
        "    def fly(self):\n",
        "        print(\"Penguins cannot fly, they swim\")\n",
        "\n",
        "def make_bird_fly(bird):\n",
        "    bird.fly()\n",
        "\n",
        "sparrow = Sparrow()\n",
        "penguin = Penguin()\n",
        "\n",
        "make_bird_fly(sparrow)\n",
        "make_bird_fly(penguin)"
      ],
      "metadata": {
        "colab": {
          "base_uri": "https://localhost:8080/"
        },
        "id": "4TM5Bh-asKUX",
        "outputId": "55df03a7-b365-44ad-aa9f-06cbdc417f70"
      },
      "execution_count": 10,
      "outputs": [
        {
          "output_type": "stream",
          "name": "stdout",
          "text": [
            "Sparrows fly short distances\n",
            "Penguins cannot fly, they swim\n"
          ]
        }
      ]
    },
    {
      "cell_type": "markdown",
      "source": [
        "  5.Write a program to demonstrate encapsulation by creating a class BankAccount with private attributes\n",
        "balance and methods to deposit, withdraw, and check balance."
      ],
      "metadata": {
        "id": "s9kxPlrHsONK"
      }
    },
    {
      "cell_type": "code",
      "source": [
        "class BankAccount:\n",
        "    def __init__(self, initial_balance=0):\n",
        "        self._balance = initial_balance\n",
        "\n",
        "    def deposit(self, amount):\n",
        "        if amount > 0:\n",
        "            self._balance += amount\n",
        "            print(f\"Deposited: ${amount}. New balance: ${self._balance}\")\n",
        "        else:\n",
        "            print(\"Deposit amount must be positive.\")\n",
        "\n",
        "    def withdraw(self, amount):\n",
        "        if amount > 0 and amount <= self._balance:\n",
        "            self._balance -= amount\n",
        "            print(f\"Withdrew: ${amount}. New balance: ${self._balance}\")\n",
        "        elif amount > self._balance:\n",
        "            print(\"Insufficient funds.\")\n",
        "        else:\n",
        "            print(\"Withdrawal amount must be positive.\")\n",
        "\n",
        "    def get_balance(self):\n",
        "        return self._balance\n",
        "\n",
        "account = BankAccount(1000)\n",
        "account.deposit(500)\n",
        "account.withdraw(200)\n",
        "account.withdraw(2000)\n",
        "print(f\"Current balance: ${account.get_balance()}\")"
      ],
      "metadata": {
        "colab": {
          "base_uri": "https://localhost:8080/"
        },
        "id": "vqNgXRP-sYrB",
        "outputId": "125f947e-d7c6-44b7-ac8b-bf20095a3acb"
      },
      "execution_count": 11,
      "outputs": [
        {
          "output_type": "stream",
          "name": "stdout",
          "text": [
            "Deposited: $500. New balance: $1500\n",
            "Withdrew: $200. New balance: $1300\n",
            "Insufficient funds.\n",
            "Current balance: $1300\n"
          ]
        }
      ]
    },
    {
      "cell_type": "markdown",
      "source": [
        "  6.  Demonstrate runtime polymorphism using a method play() in a base class Instrument. Derive classes Guitar\n",
        "and Piano that implement their own version of play()."
      ],
      "metadata": {
        "id": "CPUf58XltSKv"
      }
    },
    {
      "cell_type": "code",
      "source": [
        "class Instrument:\n",
        "    def play(self):\n",
        "        print(\"Playing an instrument sound\")\n",
        "\n",
        "class Guitar(Instrument):\n",
        "    def play(self):\n",
        "        print(\"Strumming the guitar\")\n",
        "\n",
        "class Piano(Instrument):\n",
        "    def play(self):\n",
        "        print(\"Playing the piano keys\")\n",
        "\n",
        "def make_instrument_play(instrument):\n",
        "    instrument.play()\n",
        "\n",
        "guitar = Guitar()\n",
        "piano = Piano()\n",
        "\n",
        "make_instrument_play(guitar)\n",
        "make_instrument_play(piano)"
      ],
      "metadata": {
        "colab": {
          "base_uri": "https://localhost:8080/"
        },
        "id": "Qyq8lMjCt8Gd",
        "outputId": "a0b45bd4-42cf-4a38-ef0d-7a30ca800578"
      },
      "execution_count": 12,
      "outputs": [
        {
          "output_type": "stream",
          "name": "stdout",
          "text": [
            "Strumming the guitar\n",
            "Playing the piano keys\n"
          ]
        }
      ]
    },
    {
      "cell_type": "markdown",
      "source": [
        "  7.  Create a class MathOperations with a class method add_numbers() to add two numbers and a static\n",
        "method subtract_numbers() to subtract two numbers."
      ],
      "metadata": {
        "id": "pMlPRodjuE5w"
      }
    },
    {
      "cell_type": "code",
      "source": [
        "class MathOperations:\n",
        "    @classmethod\n",
        "    def add_numbers(cls, num1, num2):\n",
        "        return num1 + num2\n",
        "\n",
        "    @staticmethod\n",
        "    def subtract_numbers(num1, num2):\n",
        "        return num1 - num2\n",
        "\n",
        "# Example usage:\n",
        "print(f\"Addition using class method: {MathOperations.add_numbers(10, 5)}\")\n",
        "print(f\"Subtraction using static method: {MathOperations.subtract_numbers(10, 5)}\")"
      ],
      "metadata": {
        "colab": {
          "base_uri": "https://localhost:8080/"
        },
        "id": "cS4IihGiuUL4",
        "outputId": "01fb5ec2-68bf-4e4b-a349-f1da2f316bd6"
      },
      "execution_count": 13,
      "outputs": [
        {
          "output_type": "stream",
          "name": "stdout",
          "text": [
            "Addition using class method: 15\n",
            "Subtraction using static method: 5\n"
          ]
        }
      ]
    },
    {
      "cell_type": "markdown",
      "source": [
        "  8.  Implement a class Person with a class method to count the total number of persons created.\n",
        "\n",
        "\n"
      ],
      "metadata": {
        "id": "NQ4hk_HguYz3"
      }
    },
    {
      "cell_type": "code",
      "source": [
        "class Person:\n",
        "    total_persons = 0\n",
        "\n",
        "    def __init__(self, name):\n",
        "        self.name = name\n",
        "        Person.total_persons += 1\n",
        "\n",
        "    @classmethod\n",
        "    def get_total_persons(cls):\n",
        "        return cls.total_persons\n",
        "\n",
        "person1 = Person(\"Alice\")\n",
        "person2 = Person(\"Bob\")\n",
        "person3 = Person(\"Charlie\")\n",
        "\n",
        "print(f\"Total number of persons created: {Person.get_total_persons()}\")"
      ],
      "metadata": {
        "colab": {
          "base_uri": "https://localhost:8080/"
        },
        "id": "IzR1vCA0upNF",
        "outputId": "7a88b703-46ec-42af-8fce-ad88d3bdad84"
      },
      "execution_count": 14,
      "outputs": [
        {
          "output_type": "stream",
          "name": "stdout",
          "text": [
            "Total number of persons created: 3\n"
          ]
        }
      ]
    },
    {
      "cell_type": "markdown",
      "source": [
        "  9.  Write a class Fraction with attributes numerator and denominator. Override the str method to display the\n",
        "fraction as \"numerator/denominator\"."
      ],
      "metadata": {
        "id": "nDMyGQdouxI8"
      }
    },
    {
      "cell_type": "code",
      "source": [
        "class Fraction:\n",
        "    def __init__(self, numerator, denominator):\n",
        "        self.numerator = numerator\n",
        "        self.denominator = denominator\n",
        "\n",
        "    def __str__(self):\n",
        "        return f\"{self.numerator}/{self.denominator}\"\n",
        "\n",
        "fraction1 = Fraction(3, 4)\n",
        "print(fraction1)\n",
        "\n",
        "fraction2 = Fraction(7, 2)\n",
        "print(fraction2)"
      ],
      "metadata": {
        "colab": {
          "base_uri": "https://localhost:8080/"
        },
        "id": "ohszxoLkvIED",
        "outputId": "cd5dcf61-9ab7-450e-e938-1b2930aea689"
      },
      "execution_count": 15,
      "outputs": [
        {
          "output_type": "stream",
          "name": "stdout",
          "text": [
            "3/4\n",
            "7/2\n"
          ]
        }
      ]
    },
    {
      "cell_type": "markdown",
      "source": [
        "  10. Demonstrate operator overloading by creating a class Vector and overriding the add method to add two\n",
        "vectors."
      ],
      "metadata": {
        "id": "RLHkST4mvK7Y"
      }
    },
    {
      "cell_type": "code",
      "source": [
        "class Vector:\n",
        "    def __init__(self, x, y):\n",
        "        self.x = x\n",
        "        self.y = y\n",
        "\n",
        "    def __str__(self):\n",
        "        return f\"Vector({self.x}, {self.y})\"\n",
        "\n",
        "    def __add__(self, other):\n",
        "        if isinstance(other, Vector):\n",
        "            return Vector(self.x + other.x, self.y + other.y)\n",
        "        else:\n",
        "            raise TypeError(\"Can only add a Vector object\")\n",
        "\n",
        "vector1 = Vector(2, 3)\n",
        "vector2 = Vector(1, 4)\n",
        "\n",
        "vector3 = vector1 + vector2\n",
        "print(vector3)"
      ],
      "metadata": {
        "colab": {
          "base_uri": "https://localhost:8080/"
        },
        "id": "zpxA8pB-vdsh",
        "outputId": "6752abf8-e20b-416c-dadd-90a22b75258f"
      },
      "execution_count": 16,
      "outputs": [
        {
          "output_type": "stream",
          "name": "stdout",
          "text": [
            "Vector(3, 7)\n"
          ]
        }
      ]
    },
    {
      "cell_type": "markdown",
      "source": [
        "  11.  Create a class Person with attributes name and age. Add a method greet() that prints \"Hello, my name is\n",
        "{name} and I am {age} years old.\""
      ],
      "metadata": {
        "id": "9fVmlu8FvmLP"
      }
    },
    {
      "cell_type": "code",
      "source": [
        "class Person:\n",
        "    def __init__(self, name, age):\n",
        "        self.name = name\n",
        "        self.age = age\n",
        "\n",
        "    def greet(self):\n",
        "        print(f\"Hello, my name is {self.name} and I am {self.age} years old.\")\n",
        "\n",
        "person1 = Person(\"Alice\", 30)\n",
        "person1.greet()\n",
        "\n",
        "person2 = Person(\"Bob\", 25)\n",
        "person2.greet()"
      ],
      "metadata": {
        "colab": {
          "base_uri": "https://localhost:8080/"
        },
        "id": "-AKekYnev1fN",
        "outputId": "e8a47c97-ea06-4251-a57d-7466f047fbdd"
      },
      "execution_count": 17,
      "outputs": [
        {
          "output_type": "stream",
          "name": "stdout",
          "text": [
            "Hello, my name is Alice and I am 30 years old.\n",
            "Hello, my name is Bob and I am 25 years old.\n"
          ]
        }
      ]
    },
    {
      "cell_type": "markdown",
      "source": [
        "  12.  Implement a class Student with attributes name and grades. Create a method average_grade() to compute\n",
        "the average of the grades."
      ],
      "metadata": {
        "id": "lt_m1ijdv71h"
      }
    },
    {
      "cell_type": "code",
      "source": [
        "class Student:\n",
        "    def __init__(self, name, grades):\n",
        "        self.name = name\n",
        "        self.grades = grades\n",
        "\n",
        "    def average_grade(self):\n",
        "        if not self.grades:\n",
        "            return 0\n",
        "        return sum(self.grades) / len(self.grades)\n",
        "\n",
        "student1 = Student(\"Alice\", [85, 90, 92, 88])\n",
        "print(f\"{student1.name}'s average grade: {student1.average_grade()}\")\n",
        "\n",
        "student2 = Student(\"Bob\", [75, 80, 78, 82])\n",
        "print(f\"{student2.name}'s average grade: {student2.average_grade()}\")\n",
        "\n",
        "student3 = Student(\"Charlie\", [])\n",
        "print(f\"{student3.name}'s average grade: {student3.average_grade()}\")"
      ],
      "metadata": {
        "colab": {
          "base_uri": "https://localhost:8080/"
        },
        "id": "KyGpVQCXwm5K",
        "outputId": "76a7f105-444f-4dae-c7d9-632183be3450"
      },
      "execution_count": 18,
      "outputs": [
        {
          "output_type": "stream",
          "name": "stdout",
          "text": [
            "Alice's average grade: 88.75\n",
            "Bob's average grade: 78.75\n",
            "Charlie's average grade: 0\n"
          ]
        }
      ]
    },
    {
      "cell_type": "markdown",
      "source": [
        "  13.  Create a class Rectangle with methods set_dimensions() to set the dimensions and area() to calculate the\n",
        "area."
      ],
      "metadata": {
        "id": "E8URLAzcwwhD"
      }
    },
    {
      "cell_type": "code",
      "source": [
        "class Rectangle:\n",
        "    def __init__(self, length=0, width=0):\n",
        "        self.length = length\n",
        "        self.width = width\n",
        "\n",
        "    def set_dimensions(self, length, width):\n",
        "        self.length = length\n",
        "        self.width = width\n",
        "\n",
        "    def area(self):\n",
        "        return self.length * self.width\n",
        "\n",
        "rectangle1 = Rectangle()\n",
        "rectangle1.set_dimensions(5, 10)\n",
        "print(f\"Area of rectangle1: {rectangle1.area()}\")\n",
        "\n",
        "rectangle2 = Rectangle(3, 7)\n",
        "print(f\"Area of rectangle2: {rectangle2.area()}\")"
      ],
      "metadata": {
        "colab": {
          "base_uri": "https://localhost:8080/"
        },
        "id": "wnNGaf8ywbJ0",
        "outputId": "62de6b5d-41a0-45a3-df8a-ccecda0c0ce9"
      },
      "execution_count": 19,
      "outputs": [
        {
          "output_type": "stream",
          "name": "stdout",
          "text": [
            "Area of rectangle1: 50\n",
            "Area of rectangle2: 21\n"
          ]
        }
      ]
    },
    {
      "cell_type": "markdown",
      "source": [
        "  14.  Create a class Employee with a method calculate_salary() that computes the salary based on hours worked\n",
        "and hourly rate. Create a derived class Manager that adds a bonus to the salary."
      ],
      "metadata": {
        "id": "MS9GEPA8xDGy"
      }
    },
    {
      "cell_type": "code",
      "source": [
        "class Employee:\n",
        "    def __init__(self, hours_worked, hourly_rate):\n",
        "        self.hours_worked = hours_worked\n",
        "        self.hourly_rate = hourly_rate\n",
        "\n",
        "    def calculate_salary(self):\n",
        "        return self.hours_worked * self.hourly_rate\n",
        "\n",
        "class Manager(Employee):\n",
        "    def __init__(self, hours_worked, hourly_rate, bonus):\n",
        "        super().__init__(hours_worked, hourly_rate)\n",
        "        self.bonus = bonus\n",
        "\n",
        "    def calculate_salary(self):\n",
        "        base_salary = super().calculate_salary()\n",
        "        return base_salary + self.bonus\n",
        "\n",
        "employee = Employee(40, 20)\n",
        "print(f\"Employee Salary: ${employee.calculate_salary()}\")\n",
        "\n",
        "manager = Manager(40, 20, 500)\n",
        "print(f\"Manager Salary: ${manager.calculate_salary()}\")"
      ],
      "metadata": {
        "colab": {
          "base_uri": "https://localhost:8080/"
        },
        "id": "F2JbH4r1xaqj",
        "outputId": "4cae5f02-d605-473c-b804-badfa44f836d"
      },
      "execution_count": 20,
      "outputs": [
        {
          "output_type": "stream",
          "name": "stdout",
          "text": [
            "Employee Salary: $800\n",
            "Manager Salary: $1300\n"
          ]
        }
      ]
    },
    {
      "cell_type": "markdown",
      "source": [
        "  15.  Create a class Product with attributes name, price, and quantity. Implement a method total_price() that\n",
        "calculates the total price of the product."
      ],
      "metadata": {
        "id": "3U-_jV6Bxicw"
      }
    },
    {
      "cell_type": "code",
      "source": [
        "class Product:\n",
        "    def __init__(self, name, price, quantity):\n",
        "        self.name = name\n",
        "        self.price = price\n",
        "        self.quantity = quantity\n",
        "\n",
        "    def total_price(self):\n",
        "        return self.price * self.quantity\n",
        "\n",
        "product1 = Product(\"Laptop\", 1200, 1)\n",
        "print(f\"Total price for {product1.name}: ${product1.total_price()}\")\n",
        "\n",
        "product2 = Product(\"Mouse\", 25, 5)\n",
        "print(f\"Total price for {product2.name}: ${product2.total_price()}\")"
      ],
      "metadata": {
        "colab": {
          "base_uri": "https://localhost:8080/"
        },
        "id": "N38pHgNYxz9h",
        "outputId": "289ce504-c664-4513-e582-6021ec7aa177"
      },
      "execution_count": 21,
      "outputs": [
        {
          "output_type": "stream",
          "name": "stdout",
          "text": [
            "Total price for Laptop: $1200\n",
            "Total price for Mouse: $125\n"
          ]
        }
      ]
    },
    {
      "cell_type": "markdown",
      "source": [
        "  16.  Create a class Animal with an abstract method sound(). Create two derived classes Cow and Sheep that\n",
        "implement the sound() method."
      ],
      "metadata": {
        "id": "pD4-OBXbx3A7"
      }
    },
    {
      "cell_type": "code",
      "source": [
        "from abc import ABC, abstractmethod\n",
        "\n",
        "class Animal(ABC):\n",
        "    @abstractmethod\n",
        "    def sound(self):\n",
        "        pass\n",
        "\n",
        "class Cow(Animal):\n",
        "    def sound(self):\n",
        "        return \"Moo\"\n",
        "\n",
        "class Sheep(Animal):\n",
        "    def sound(self):\n",
        "        return \"Baa\"\n",
        "\n",
        "cow = Cow()\n",
        "sheep = Sheep()\n",
        "\n",
        "print(f\"Cow sound: {cow.sound()}\")\n",
        "print(f\"Sheep sound: {sheep.sound()}\")"
      ],
      "metadata": {
        "colab": {
          "base_uri": "https://localhost:8080/"
        },
        "id": "V_D-50hJyHdY",
        "outputId": "83f674ef-bb1e-47bf-d963-7d7330775ea8"
      },
      "execution_count": 22,
      "outputs": [
        {
          "output_type": "stream",
          "name": "stdout",
          "text": [
            "Cow sound: Moo\n",
            "Sheep sound: Baa\n"
          ]
        }
      ]
    },
    {
      "cell_type": "markdown",
      "source": [
        "  17.  Create a class Book with attributes title, author, and year_published. Add a method get_book_info() that\n",
        "returns a formatted string with the book's details."
      ],
      "metadata": {
        "id": "tmAdT-dsyLvJ"
      }
    },
    {
      "cell_type": "code",
      "source": [
        "class Book:\n",
        "    def __init__(self, title, author, year_published):\n",
        "        self.title = title\n",
        "        self.author = author\n",
        "        self.year_published = year_published\n",
        "\n",
        "    def get_book_info(self):\n",
        "        return f\"Title: {self.title}, Author: {self.author}, Year Published: {self.year_published}\"\n",
        "\n",
        "book1 = Book(\"The Hitchhiker's Guide to the Galaxy\", \"Douglas Adams\", 1979)\n",
        "print(book1.get_book_info())\n",
        "\n",
        "book2 = Book(\"Pride and Prejudice\", \"Jane Austen\", 1813)\n",
        "print(book2.get_book_info())"
      ],
      "metadata": {
        "colab": {
          "base_uri": "https://localhost:8080/"
        },
        "id": "-9dvG_JpyYaA",
        "outputId": "f4015232-04b6-4671-b679-b11f41dd9948"
      },
      "execution_count": 23,
      "outputs": [
        {
          "output_type": "stream",
          "name": "stdout",
          "text": [
            "Title: The Hitchhiker's Guide to the Galaxy, Author: Douglas Adams, Year Published: 1979\n",
            "Title: Pride and Prejudice, Author: Jane Austen, Year Published: 1813\n"
          ]
        }
      ]
    },
    {
      "cell_type": "markdown",
      "source": [
        "  18.  Create a class House with attributes address and price. Create a derived class Mansion that adds an\n",
        "attribute number_of_rooms."
      ],
      "metadata": {
        "id": "x-ko7jkGyzHu"
      }
    },
    {
      "cell_type": "code",
      "source": [
        "class House:\n",
        "   def __init__(self, address, price):\n",
        "      self.address = address\n",
        "      self.price = price\n",
        "\n",
        "   def display_info(self):\n",
        "      print(f\"Address: {self.address}, Price: ${self.price}\")\n",
        "\n",
        "class Mansion(House):\n",
        "   def __init__(self, address, price, number_of_rooms):\n",
        "      super().__init__(address, price)\n",
        "      self.number_of_rooms = number_of_rooms\n",
        "\n",
        "   def display_info(self):\n",
        "       return super().display_info()\n",
        "\n",
        "house = House(\"123 Main St\", 300000)\n",
        "house.display_info()\n",
        "\n",
        "mansion = Mansion(\"456 Elm St\", 1500000, 10)\n",
        "mansion.display_info()"
      ],
      "metadata": {
        "colab": {
          "base_uri": "https://localhost:8080/"
        },
        "id": "45yXOAPezAHF",
        "outputId": "ff89a7e5-8869-424f-ca31-113c57e16f85"
      },
      "execution_count": 26,
      "outputs": [
        {
          "output_type": "stream",
          "name": "stdout",
          "text": [
            "Address: 123 Main St, Price: $300000\n",
            "Address: 456 Elm St, Price: $1500000\n"
          ]
        }
      ]
    }
  ]
}